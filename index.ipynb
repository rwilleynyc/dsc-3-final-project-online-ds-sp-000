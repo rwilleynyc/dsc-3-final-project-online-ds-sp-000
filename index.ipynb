{
 "cells": [
  {
   "cell_type": "markdown",
   "metadata": {},
   "source": [
    "# Predicting Heart Disease Mortality in the United States\n",
    "According data from the National Center for Health Statistics (NCHS), which is overseen by the Center for Disease Control (CDC), the leading cause of death in the United States is heart disease. Reliable reporting of this data for all states goes back to 1999, and the most recent public data available is from 2016.\n",
    "\n",
    "<img src='/images/CDC-logo-nchs.gif'>\n",
    "\n",
    "Naturally, public health organizations stand to benefit from this data if they can use it to accurately predict heart disease mortality rates in various states. Such a model would allow them to plan and appropriate resources in future years. Given the lag time in public reporting, this project aims to build a model that predicts heart disease mortality rates 3 years into the future."
   ]
  },
  {
   "cell_type": "code",
   "execution_count": null,
   "metadata": {},
   "outputs": [],
   "source": []
  }
 ],
 "metadata": {
  "kernelspec": {
   "display_name": "Python 3",
   "language": "python",
   "name": "python3"
  },
  "language_info": {
   "codemirror_mode": {
    "name": "ipython",
    "version": 3
   },
   "file_extension": ".py",
   "mimetype": "text/x-python",
   "name": "python",
   "nbconvert_exporter": "python",
   "pygments_lexer": "ipython3",
   "version": "3.7.1"
  }
 },
 "nbformat": 4,
 "nbformat_minor": 2
}
